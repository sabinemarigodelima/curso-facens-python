{
 "cells": [
  {
   "cell_type": "markdown",
   "id": "e3f369cc-1d36-4001-a791-cce5e426eaaf",
   "metadata": {},
   "source": [
    "# Atividades"
   ]
  },
  {
   "cell_type": "markdown",
   "id": "d203e0c5-f7f1-4629-bd12-69ce36061e60",
   "metadata": {},
   "source": [
    "## Atividade 1: Classificar Nota\n",
    "\n",
    "1. Crie uma variável nota_final e atribua um valor numérico a ela.\n",
    "\n",
    "2. Use uma estrutura condicional (if/elif/else) para verificar a nota e imprimir a classificação do aluno:\n",
    "\n",
    "3. Se a nota for maior ou igual a 7, imprima \"Aprovado\".\n",
    "\n",
    "4. Se a nota for maior ou igual a 5 e menor que 7, imprima \"Recuperação\".\n",
    "\n",
    "5. Caso contrário, imprima \"Reprovado\"."
   ]
  },
  {
   "cell_type": "code",
   "execution_count": null,
   "id": "722203f1-6b69-4274-9502-f599524af60f",
   "metadata": {},
   "outputs": [],
   "source": []
  },
  {
   "cell_type": "markdown",
   "id": "12535d27-3479-4b06-a5ba-590a9d607227",
   "metadata": {},
   "source": [
    "## Atividade 2: Processando lista de frutas\n",
    "\n",
    "1. Crie uma lista chamada frutas com pelo menos 5 nomes de frutas.\n",
    "\n",
    "2. Use um laço de repetição for para iterar sobre a lista.\n",
    "\n",
    "3. Dentro do loop, use uma condicional (if) para verificar se o nome da fruta é \"morango\".\n",
    "\n",
    "4. Se for \"morango\", imprima \"Eu amo morangos!\". Se não for, imprima o nome da fruta."
   ]
  },
  {
   "cell_type": "code",
   "execution_count": 1,
   "id": "4d3c4149-7573-4a30-961a-f0045a7178d3",
   "metadata": {},
   "outputs": [],
   "source": [
    "# Escreva o código aqui"
   ]
  },
  {
   "cell_type": "markdown",
   "id": "f1d4cb13-a84d-43b8-87e4-dcf1e04a600d",
   "metadata": {},
   "source": [
    "## Atividade 3: Contar Vogais em uma Frase\n",
    "\n",
    "1. Crie uma variável frase e atribua a ela uma frase de sua escolha.\n",
    "\n",
    "2. Crie uma variável contador_vogais e inicialize-a com 0.\n",
    "\n",
    "3. Defina uma lista ou string com todas as vogais (vogais = \"aeiouAEIOU\").\n",
    "\n",
    "4. Use um laço de repetição for para percorrer cada caractere da frase.\n",
    "\n",
    "5. Dentro do loop, use uma condicional (if) para verificar se o caractere atual está presente na lista de vogais.\n",
    "\n",
    "6. Se estiver, incremente contador_vogais em 1.\n",
    "\n",
    "7. Após o loop, imprima a frase e o total de vogais encontradas."
   ]
  },
  {
   "cell_type": "code",
   "execution_count": 5,
   "id": "422825e8-f030-42ac-b23e-e98bed85b88c",
   "metadata": {},
   "outputs": [
    {
     "name": "stdout",
     "output_type": "stream",
     "text": [
      "Sabine\n"
     ]
    }
   ],
   "source": [
    "# Escreva o código aqui\n",
    "\n",
    "print(\"Sabine\")"
   ]
  },
  {
   "cell_type": "markdown",
   "id": "7bb379d8-8c8f-4ef5-90f3-0e957419722e",
   "metadata": {},
   "source": [
    "## Atividade 4: Criar um Dicionário de Produtos\n",
    "\n",
    "1. Crie um dicionário chamado produtos onde as chaves são os nomes dos produtos e os valores são outros dicionários com as chaves \"preço\" e \"em_estoque\" (com valores numéricos e booleanos, respectivamente). Adicione pelo menos 3 produtos.\n",
    "\n",
    "2. Exemplo: {'camiseta': {'preço': 50, 'em_estoque': True}}\n",
    "\n",
    "3. Use um laço de repetição for para percorrer os itens do dicionário de produtos.\n",
    "\n",
    "4. Dentro do loop, imprima o nome do produto e seu preço.\n",
    "\n",
    "5. Adicione uma condicional (if) para verificar se o produto está em estoque. Se não estiver, imprima \"Produto fora de estoque\"."
   ]
  },
  {
   "cell_type": "code",
   "execution_count": 3,
   "id": "16989dba-bbd1-49c8-89de-8972538af5b3",
   "metadata": {},
   "outputs": [],
   "source": [
    "# Escreva o código aqui"
   ]
  },
  {
   "cell_type": "markdown",
   "id": "abcc39d8-e96a-44dd-b108-df573032cb61",
   "metadata": {},
   "source": [
    "## Atividade 5: Análise de Vendas de Produtos\n",
    "\n",
    "1. Crie uma lista chamada registros_vendas, onde cada item da lista é um dicionário representando uma venda. Cada dicionário deve ter as chaves \"produto\", \"quantidade\" e \"valor_unitario\". Adicione pelo menos 5 registros de vendas.\n",
    "\n",
    "2. Crie uma variável vendas_totais e inicialize-a com 0.\n",
    "\n",
    "3. Crie uma variável produtos_mais_vendidos como um dicionário vazio.\n",
    "\n",
    "4. Use um laço de repetição for para percorrer a lista registros_vendas.\n",
    "\n",
    "5. Dentro do loop, calcule o valor total de cada venda (quantidade * valor_unitario) e adicione-o a vendas_totais.\n",
    "\n",
    "6. Use um condicional para verificar se o produto da venda já existe no dicionário produtos_mais_vendidos. Se sim, adicione a quantidade vendida. Se não, adicione o produto como uma nova chave com a quantidade atual.\n",
    "\n",
    "7. Após o loop, imprima o valor total de todas as vendas e o dicionário produtos_mais_vendidos para ver o total de unidades vendidas por produto."
   ]
  },
  {
   "cell_type": "code",
   "execution_count": 4,
   "id": "3db0440a-680e-439a-8bf8-d27bdae4bb19",
   "metadata": {},
   "outputs": [],
   "source": [
    "# Escreva o código aqui"
   ]
  }
 ],
 "metadata": {
  "kernelspec": {
   "display_name": "Python 3",
   "language": "python",
   "name": "python3"
  },
  "language_info": {
   "codemirror_mode": {
    "name": "ipython",
    "version": 3
   },
   "file_extension": ".py",
   "mimetype": "text/x-python",
   "name": "python",
   "nbconvert_exporter": "python",
   "pygments_lexer": "ipython3",
   "version": "3.12.1"
  }
 },
 "nbformat": 4,
 "nbformat_minor": 5
}
